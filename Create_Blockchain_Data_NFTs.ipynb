{
  "cells": [
    {
      "cell_type": "markdown",
      "metadata": {
        "id": "U2cIERTiROa_"
      },
      "source": [
        "# OCEAN Data NFTs\n",
        "Quickly create OCEAN Data NFTs by querying blockchain data from different providers.\n",
        "\n",
        "Supported Blockchain Data Providers:\n",
        "* [Dune](https://dune.com/)\n",
        "* [Flipside](https://flipsidecrypto.xyz/)\n",
        "\n",
        "Options:\n",
        "1. Create Dune/Flipside queries and OCEAN Data NFTs from UI\n",
        "2. Pull Dune/Flipside data, store in file, and create OCEAN Data NFT from python\n",
        "    * Can pull from Flipside API, but running into packaging dependency issues...\n",
        "    * Dune query must already exist, unless have a \"premium\" subscription and can create Dune query using that\n",
        "    * Honestly, if queries already exist, then should just use the Dune/Flipside hosted endpoints and don't need to store files yourself.\n",
        "    * And honestly, if just using hosted endpoints, then just do from UI and reduce need for Infrura or risk of private keys leaking.\n",
        "    * Store file in GitHub repo, must add code to commit to GitHub\n",
        "    * Store file in GCP, but must have a GCP account\n",
        "    * Store file in IPFS(?), maybe most seemless."
      ]
    },
    {
      "cell_type": "code",
      "execution_count": null,
      "metadata": {
        "id": "qC-Gh5WzVRUy"
      },
      "outputs": [],
      "source": [
        "import json\n",
        "import pandas as pd\n",
        "import os\n",
        "from dotenv import load_dotenv\n",
        "import json\n",
        "#from flipside import Flipside\n",
        "#from ocean_lib.ocean.ocean import Ocean\n",
        "\n",
        "# Load variables from .env file\n",
        "load_dotenv()\n",
        "\n",
        "# Access environment variables\n",
        "DUNE_API_KEY = os.getenv(\"DUNE_API_KEY\")\n",
        "FLIPSIDE_API_KEY = os.getenv(\"FLIPSIDE_API_KEY\")"
      ]
    },
    {
      "cell_type": "markdown",
      "metadata": {
        "id": "DuFwUeDwRksV"
      },
      "source": [
        "## Flipside\n",
        "\n",
        "API Docs: https://docs.flipsidecrypto.com/flipside-api/get-started\n",
        "\n",
        "Example Query: https://api.flipsidecrypto.com/api/v2/queries/f8e505dc-172b-44e5-99a6-8c35fe0695a5/data/latest"
      ]
    },
    {
      "cell_type": "code",
      "execution_count": null,
      "metadata": {
        "id": "Gs3ndPZIRY5N"
      },
      "outputs": [],
      "source": [
        "# Query Flipside using their Python SDK\n",
        "def query_flipside(sql):\n",
        "    flipside = Flipside(FLIPSIDE_API_KEY, \"https://api-v2.flipsidecrypto.xyz\")\n",
        "    results = flipside.query(sql)\n",
        "    results_df = pd.DataFrame(results.rows, columns=results.columns)\n",
        "    return results_df"
      ]
    },
    {
      "cell_type": "code",
      "execution_count": null,
      "metadata": {
        "id": "QOVVpyiWhrR3"
      },
      "outputs": [],
      "source": [
        "sql = \"\"\"\n",
        "SELECT\n",
        "  date(block_timestamp) as dt,\n",
        "  count(distinct tx_hash) as tx_ct\n",
        "FROM ethereum.core.fact_transactions\n",
        "WHERE block_timestamp >= GETDATE() - interval'7 days'\n",
        "GROUP BY 1\n",
        "order by 1 asc\n",
        "\"\"\"\n",
        "\n",
        "results_df = query_flipside(sql)\n",
        "results_df"
      ]
    },
    {
      "cell_type": "markdown",
      "metadata": {},
      "source": [
        "## Dune\n",
        "\n",
        "API Docs: https://dune.com/docs/api/api-reference/edit-queries/create-query/\n",
        "\n",
        "Example Query: https://api.dune.com/api/v1/query/2296642/results?api_key=XXX"
      ]
    },
    {
      "cell_type": "code",
      "execution_count": null,
      "metadata": {},
      "outputs": [],
      "source": []
    },
    {
      "cell_type": "code",
      "execution_count": null,
      "metadata": {},
      "outputs": [],
      "source": []
    },
    {
      "cell_type": "markdown",
      "metadata": {},
      "source": [
        "## IPFS\n",
        "\n",
        "Docs: https://docs.infura.io/networks/ipfs"
      ]
    },
    {
      "cell_type": "code",
      "execution_count": null,
      "metadata": {},
      "outputs": [],
      "source": []
    },
    {
      "cell_type": "markdown",
      "metadata": {
        "id": "jq9EbM_MRwLI"
      },
      "source": [
        "## OCEAN Protocol\n",
        "\n",
        "OCEAN Marketplace: https://market.oceanprotocol.com/\n",
        "\n",
        "Profile: https://market.oceanprotocol.com/profile/0xDFAe2858f276Ca3893ba064c790E0e8C40170554\n",
        "\n",
        "SDK Docs: https://docs.oceanprotocol.com/developers/ocean.py/install"
      ]
    },
    {
      "cell_type": "code",
      "execution_count": null,
      "metadata": {},
      "outputs": [],
      "source": [
        "# Create Ocean instance\n",
        "from ocean_lib.web3_internal.utils import connect_to_network\n",
        "connect_to_network(\"polygon-main\")"
      ]
    },
    {
      "cell_type": "code",
      "execution_count": null,
      "metadata": {},
      "outputs": [],
      "source": [
        "from ocean_lib.example_config import get_config_dict\n",
        "from ocean_lib.ocean.ocean import Ocean\n",
        "config = get_config_dict(\"polygon-main\")\n",
        "ocean = Ocean(config)"
      ]
    },
    {
      "cell_type": "code",
      "execution_count": null,
      "metadata": {
        "id": "ddWUcAVtvtQx"
      },
      "outputs": [],
      "source": [
        "# Connect Wallet\n",
        "from brownie.network import accounts\n",
        "accounts.clear()\n",
        "private_key = os.getenv('PRIVATE_KEY')\n",
        "wallet = accounts.add(private_key)\n",
        "print('MATIC Balance:', wallet.balance() / 1e18 )"
      ]
    },
    {
      "cell_type": "code",
      "execution_count": null,
      "metadata": {},
      "outputs": [],
      "source": [
        "# Data info\n",
        "name = \"Max Test dataset\"\n",
        "url = \"https://raw.githubusercontent.com/trentmc/branin/main/branin.arff\"\n",
        "\n",
        "# Create data asset\n",
        "(data_nft, datatoken, ddo) = ocean.assets.create_url_asset(name, url, {\"from\": wallet})\n",
        "\n",
        "print(\"Just published asset:\")\n",
        "print(f\"  data_nft: symbol={data_nft.symbol()}, address={data_nft.address}\")\n",
        "print(f\"  datatoken: symbol={datatoken.symbol()}, address={datatoken.address}\")\n",
        "print(f\"  did={ddo.did}\")"
      ]
    }
  ],
  "metadata": {
    "colab": {
      "collapsed_sections": [
        "lD0ohbZKhrSA",
        "QyP9sQLdhrSH"
      ],
      "provenance": [],
      "toc_visible": true
    },
    "kernelspec": {
      "display_name": "Python 3 (ipykernel)",
      "language": "python",
      "name": "python3"
    },
    "language_info": {
      "codemirror_mode": {
        "name": "ipython",
        "version": 3
      },
      "file_extension": ".py",
      "mimetype": "text/x-python",
      "name": "python",
      "nbconvert_exporter": "python",
      "pygments_lexer": "ipython3",
      "version": "3.8.17"
    }
  },
  "nbformat": 4,
  "nbformat_minor": 0
}
