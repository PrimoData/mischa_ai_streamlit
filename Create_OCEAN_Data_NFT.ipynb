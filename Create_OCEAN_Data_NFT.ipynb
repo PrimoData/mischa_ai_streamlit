{
  "cells": [
    {
      "cell_type": "markdown",
      "metadata": {
        "id": "U2cIERTiROa_"
      },
      "source": [
        "# Create OCEAN Data NFT\n",
        "Quickly create OCEAN Data NFTs by querying blockchain data from Dune and Flipside.\n",
        "\n",
        "**Steps:**\n",
        "1. Get Data\n",
        "2. Store Data\n",
        "3. Create Data NFT\n",
        "\n",
        "Alternative Option: Build Dune/Flipside queries on platforms and create OCEAN Data NFTs from UI.\n",
        "\n",
        "1. Get \"out of gas\" error a lot\n",
        "2. How to add key/headers in publish for url \n",
        "3. Missing pricing schema\n",
        "4. Confirm can download file "
      ]
    },
    {
      "cell_type": "code",
      "execution_count": 1,
      "metadata": {
        "id": "qC-Gh5WzVRUy"
      },
      "outputs": [],
      "source": [
        "import json\n",
        "import pandas as pd\n",
        "import os\n",
        "from dotenv import load_dotenv\n",
        "import requests\n",
        "import subprocess\n",
        "from flipside import Flipside\n",
        "from ocean_lib.web3_internal.utils import connect_to_network\n",
        "from ocean_lib.example_config import get_config_dict\n",
        "from ocean_lib.ocean.ocean import Ocean\n",
        "from brownie.network import accounts\n",
        "\n",
        "# Load variables from .env file\n",
        "load_dotenv()\n",
        "DUNE_API_KEY = os.getenv(\"DUNE_API_KEY\")\n",
        "FLIPSIDE_API_KEY = os.getenv(\"FLIPSIDE_API_KEY\")\n",
        "GITHUB_KEY = os.getenv(\"GITHUB_KEY\")"
      ]
    },
    {
      "cell_type": "markdown",
      "metadata": {
        "id": "DuFwUeDwRksV"
      },
      "source": [
        "## 1. Get Data\n",
        "### Flipside\n",
        "\n",
        "* SDK Docs: https://docs.flipsidecrypto.com/flipside-api/get-started"
      ]
    },
    {
      "cell_type": "code",
      "execution_count": 2,
      "metadata": {
        "id": "Gs3ndPZIRY5N"
      },
      "outputs": [],
      "source": [
        "# Query Flipside using their Python SDK\n",
        "def query_flipside(sql):\n",
        "    flipside = Flipside(FLIPSIDE_API_KEY, \"https://api-v2.flipsidecrypto.xyz\")\n",
        "    results = flipside.query(sql)\n",
        "    results_df = pd.DataFrame(results.rows, columns=results.columns).drop(columns=[\"__row_index\"])\n",
        "    return results_df"
      ]
    },
    {
      "cell_type": "code",
      "execution_count": 3,
      "metadata": {
        "id": "QOVVpyiWhrR3"
      },
      "outputs": [
        {
          "data": {
            "text/html": [
              "<div>\n",
              "<style scoped>\n",
              "    .dataframe tbody tr th:only-of-type {\n",
              "        vertical-align: middle;\n",
              "    }\n",
              "\n",
              "    .dataframe tbody tr th {\n",
              "        vertical-align: top;\n",
              "    }\n",
              "\n",
              "    .dataframe thead th {\n",
              "        text-align: right;\n",
              "    }\n",
              "</style>\n",
              "<table border=\"1\" class=\"dataframe\">\n",
              "  <thead>\n",
              "    <tr style=\"text-align: right;\">\n",
              "      <th></th>\n",
              "      <th>dt</th>\n",
              "      <th>tx_ct</th>\n",
              "    </tr>\n",
              "  </thead>\n",
              "  <tbody>\n",
              "    <tr>\n",
              "      <th>0</th>\n",
              "      <td>2023-08-08T00:00:00.000Z</td>\n",
              "      <td>115922</td>\n",
              "    </tr>\n",
              "    <tr>\n",
              "      <th>1</th>\n",
              "      <td>2023-08-09T00:00:00.000Z</td>\n",
              "      <td>1076595</td>\n",
              "    </tr>\n",
              "    <tr>\n",
              "      <th>2</th>\n",
              "      <td>2023-08-10T00:00:00.000Z</td>\n",
              "      <td>1037733</td>\n",
              "    </tr>\n",
              "    <tr>\n",
              "      <th>3</th>\n",
              "      <td>2023-08-11T00:00:00.000Z</td>\n",
              "      <td>1050203</td>\n",
              "    </tr>\n",
              "    <tr>\n",
              "      <th>4</th>\n",
              "      <td>2023-08-12T00:00:00.000Z</td>\n",
              "      <td>972839</td>\n",
              "    </tr>\n",
              "    <tr>\n",
              "      <th>5</th>\n",
              "      <td>2023-08-13T00:00:00.000Z</td>\n",
              "      <td>920802</td>\n",
              "    </tr>\n",
              "    <tr>\n",
              "      <th>6</th>\n",
              "      <td>2023-08-14T00:00:00.000Z</td>\n",
              "      <td>1009971</td>\n",
              "    </tr>\n",
              "    <tr>\n",
              "      <th>7</th>\n",
              "      <td>2023-08-15T00:00:00.000Z</td>\n",
              "      <td>948150</td>\n",
              "    </tr>\n",
              "  </tbody>\n",
              "</table>\n",
              "</div>"
            ],
            "text/plain": [
              "                         dt    tx_ct\n",
              "0  2023-08-08T00:00:00.000Z   115922\n",
              "1  2023-08-09T00:00:00.000Z  1076595\n",
              "2  2023-08-10T00:00:00.000Z  1037733\n",
              "3  2023-08-11T00:00:00.000Z  1050203\n",
              "4  2023-08-12T00:00:00.000Z   972839\n",
              "5  2023-08-13T00:00:00.000Z   920802\n",
              "6  2023-08-14T00:00:00.000Z  1009971\n",
              "7  2023-08-15T00:00:00.000Z   948150"
            ]
          },
          "execution_count": 3,
          "metadata": {},
          "output_type": "execute_result"
        }
      ],
      "source": [
        "sql = \"\"\"\n",
        "SELECT\n",
        "  date(block_timestamp) as dt,\n",
        "  count(distinct tx_hash) as tx_ct\n",
        "FROM ethereum.core.fact_transactions\n",
        "WHERE block_timestamp >= GETDATE() - interval'7 days'\n",
        "GROUP BY 1\n",
        "order by 1 asc\n",
        "\"\"\"\n",
        "results_df = query_flipside(sql)\n",
        "results_df"
      ]
    },
    {
      "cell_type": "markdown",
      "metadata": {},
      "source": [
        "### Dune\n",
        "\n",
        "* API Docs: https://dune.com/docs/api/"
      ]
    },
    {
      "cell_type": "code",
      "execution_count": 4,
      "metadata": {},
      "outputs": [],
      "source": [
        "# Query Dune Analytics via API\n",
        "def query_dune(q):\n",
        "    url = f\"https://api.dune.com/api/v1/query/{q}/results?api_key={DUNE_API_KEY}\"\n",
        "    response = requests.get(url)\n",
        "    results_json = json.loads(response.text)[\"result\"][\"rows\"]\n",
        "    results_df = pd.DataFrame.from_dict(results_json)\n",
        "    return results_df"
      ]
    },
    {
      "cell_type": "code",
      "execution_count": 5,
      "metadata": {},
      "outputs": [
        {
          "data": {
            "text/html": [
              "<div>\n",
              "<style scoped>\n",
              "    .dataframe tbody tr th:only-of-type {\n",
              "        vertical-align: middle;\n",
              "    }\n",
              "\n",
              "    .dataframe tbody tr th {\n",
              "        vertical-align: top;\n",
              "    }\n",
              "\n",
              "    .dataframe thead th {\n",
              "        text-align: right;\n",
              "    }\n",
              "</style>\n",
              "<table border=\"1\" class=\"dataframe\">\n",
              "  <thead>\n",
              "    <tr style=\"text-align: right;\">\n",
              "      <th></th>\n",
              "      <th>dt</th>\n",
              "      <th>tx_ct</th>\n",
              "    </tr>\n",
              "  </thead>\n",
              "  <tbody>\n",
              "    <tr>\n",
              "      <th>0</th>\n",
              "      <td>2023-08-05</td>\n",
              "      <td>1124372</td>\n",
              "    </tr>\n",
              "    <tr>\n",
              "      <th>1</th>\n",
              "      <td>2023-08-06</td>\n",
              "      <td>987506</td>\n",
              "    </tr>\n",
              "    <tr>\n",
              "      <th>2</th>\n",
              "      <td>2023-08-07</td>\n",
              "      <td>1047336</td>\n",
              "    </tr>\n",
              "    <tr>\n",
              "      <th>3</th>\n",
              "      <td>2023-08-08</td>\n",
              "      <td>1098689</td>\n",
              "    </tr>\n",
              "    <tr>\n",
              "      <th>4</th>\n",
              "      <td>2023-08-09</td>\n",
              "      <td>1076595</td>\n",
              "    </tr>\n",
              "    <tr>\n",
              "      <th>5</th>\n",
              "      <td>2023-08-10</td>\n",
              "      <td>1037733</td>\n",
              "    </tr>\n",
              "    <tr>\n",
              "      <th>6</th>\n",
              "      <td>2023-08-11</td>\n",
              "      <td>1050203</td>\n",
              "    </tr>\n",
              "    <tr>\n",
              "      <th>7</th>\n",
              "      <td>2023-08-12</td>\n",
              "      <td>98194</td>\n",
              "    </tr>\n",
              "  </tbody>\n",
              "</table>\n",
              "</div>"
            ],
            "text/plain": [
              "           dt    tx_ct\n",
              "0  2023-08-05  1124372\n",
              "1  2023-08-06   987506\n",
              "2  2023-08-07  1047336\n",
              "3  2023-08-08  1098689\n",
              "4  2023-08-09  1076595\n",
              "5  2023-08-10  1037733\n",
              "6  2023-08-11  1050203\n",
              "7  2023-08-12    98194"
            ]
          },
          "execution_count": 5,
          "metadata": {},
          "output_type": "execute_result"
        }
      ],
      "source": [
        "dune_query_id = 2847682\n",
        "results_df = query_dune(dune_query_id)\n",
        "results_df"
      ]
    },
    {
      "cell_type": "markdown",
      "metadata": {},
      "source": [
        "## 2. Store Data\n",
        "### Add File to GitHub\n",
        "\n",
        "*Note: This is a quick & easy solution to host the data, but can also add file to IPFS, Arweave, GCP, AWS, etc...*"
      ]
    },
    {
      "cell_type": "code",
      "execution_count": 6,
      "metadata": {},
      "outputs": [],
      "source": [
        "# Create File from Query results\n",
        "results_df.to_csv('query_results3.csv', index=False)"
      ]
    },
    {
      "cell_type": "code",
      "execution_count": 26,
      "metadata": {},
      "outputs": [
        {
          "name": "stdout",
          "output_type": "stream",
          "text": [
            "[main 354fef2] Your commit message here\n",
            " 2 files changed, 85 insertions(+), 21 deletions(-)\n",
            " delete mode 100644 query_results.csv\n",
            "Git add, commit, and push successful!\n"
          ]
        },
        {
          "name": "stderr",
          "output_type": "stream",
          "text": [
            "To https://github.com/PrimoData/ocean_data_nfts\n",
            "   22d974c..354fef2  main -> main\n"
          ]
        }
      ],
      "source": [
        "# Store file in GitHub repo\n",
        "def git_add_commit_push(commit_message):\n",
        "    try:\n",
        "        subprocess.run(['git', 'add', '.'])\n",
        "        subprocess.run(['git', 'commit', '-m', commit_message])\n",
        "        subprocess.run(['git', 'push'])\n",
        "        print(\"Git add, commit, and push successful!\")\n",
        "    except Exception as e:\n",
        "        print(\"An error occurred:\", e)\n",
        "\n",
        "# Replace 'Your commit message here' with your desired commit message\n",
        "commit_message = 'Your commit message here'\n",
        "\n",
        "git_add_commit_push(commit_message)"
      ]
    },
    {
      "cell_type": "markdown",
      "metadata": {
        "id": "jq9EbM_MRwLI"
      },
      "source": [
        "## 3. Create Data NFT\n",
        "### Add Data NFT to the OCEAN Protocol Marketplace\n",
        "\n",
        "* Marketplace: https://market.oceanprotocol.com/\n",
        "* SDK Docs: https://docs.oceanprotocol.com/developers/ocean.py/install"
      ]
    },
    {
      "cell_type": "code",
      "execution_count": 10,
      "metadata": {},
      "outputs": [],
      "source": [
        "# Connect to Blockchain\n",
        "connect_to_network(\"polygon-main\")\n",
        "config = get_config_dict(\"polygon-main\")\n",
        "ocean = Ocean(config)"
      ]
    },
    {
      "cell_type": "code",
      "execution_count": 21,
      "metadata": {
        "id": "ddWUcAVtvtQx"
      },
      "outputs": [
        {
          "name": "stdout",
          "output_type": "stream",
          "text": [
            "MATIC Balance: 5.586549830042127\n"
          ]
        }
      ],
      "source": [
        "# Connect to Wallet\n",
        "accounts.clear()\n",
        "private_key = os.getenv('PRIVATE_KEY')\n",
        "wallet = accounts.add(private_key)\n",
        "print('MATIC Balance:', wallet.balance() / 1e18 )"
      ]
    },
    {
      "cell_type": "code",
      "execution_count": 24,
      "metadata": {},
      "outputs": [
        {
          "name": "stdout",
          "output_type": "stream",
          "text": [
            "Transaction sent: \u001b[0;1;34m0x08e38fce1abf314ff5917c1935feee5652b2ddd09c742cc0ed923e3dbd4809bd\u001b[0;m\n",
            "  Max fee: \u001b[0;1;34m500.0\u001b[0;m gwei   Priority fee: \u001b[0;1;34m500.0\u001b[0;m gwei   Gas limit: \u001b[0;1;34m1811594\u001b[0;m   Nonce: \u001b[0;1;34m32\u001b[0;m\n",
            "  ERC721Factory.createNftWithErc20 confirmed   Block: \u001b[0;1;34m46299425\u001b[0;m   Gas used: \u001b[0;1;34m1595610\u001b[0;m (\u001b[0;1;34m88.08%\u001b[0;m)   Gas price: \u001b[0;1;34m500.0\u001b[0;m gwei\n",
            "\n"
          ]
        },
        {
          "name": "stderr",
          "output_type": "stream",
          "text": [
            "INFO:ocean_lib.data_provider.data_encryptor:Asset urls encrypted successfully, encrypted urls str: 0x044f3de2f72d999b4b921f180ccc3d7f79e2cae001622c53eca8ece858c42116a2f8f291368aa2be004728420970a3492edb61d5a53cec7b39dfa8d8daac53a4a3e15aa3fa2798111f898ff609ce4feadfc834901766beab91022e46551a26481bfa47f4292480b80483657337c90203dd7d793025e63ad88a9e0bd8fc146d299900ecda7d22f93a8b1e3dcc04c41ab90b4aedd3baf6d61efb937d5f918c2ee54ce277368358e529690e415c6b2c20114a35bc00b66ca5919fce5c80ec6f29e81c32a4ffbf5921ea39f8c01af113a27462698e60a03faf9bd4da0910e0c7de4b5a10f3b398908917353d8060343e643964a533716bf332eb812a4bcf47eb5ffa4887a29e83b43ce83d563fda791b503ce2fcf0724a9b7f363af9f1a7079f5cc3d97888556ddc13185748fe5fea8fc2b50d36e94a9179f08577e6b20478eb2a973076aa43d6605ac620009d955d8db2e92f, encryptedEndpoint https://v4.provider.polygon.oceanprotocol.com/api/services/encrypt?chainId=137\n",
            "INFO:ocean_lib.data_provider.data_encryptor:Asset urls encrypted successfully, encrypted urls str: 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, encryptedEndpoint https://v4.provider.polygon.oceanprotocol.com/api/services/encrypt?chainId=137\n"
          ]
        },
        {
          "ename": "ValueError",
          "evalue": "Execution reverted during call: 'out of gas'. This transaction will likely revert. If you wish to broadcast, include `allow_revert:True` as a transaction parameter.",
          "output_type": "error",
          "traceback": [
            "\u001b[0;31m---------------------------------------------------------------------------\u001b[0m",
            "\u001b[0;31mValueError\u001b[0m                                Traceback (most recent call last)",
            "Cell \u001b[0;32mIn[24], line 15\u001b[0m\n\u001b[1;32m      7\u001b[0m \u001b[39m# Private GitHub\u001b[39;00m\n\u001b[1;32m      8\u001b[0m \u001b[39m#url = f\"https://raw.githubusercontent.com/PrimoData/ocean_data_nfts/main/query_results2.csv?token={GITHUB_KEY}\"\u001b[39;00m\n\u001b[1;32m     10\u001b[0m tx_dict \u001b[39m=\u001b[39m {\n\u001b[1;32m     11\u001b[0m     \u001b[39m\"\u001b[39m\u001b[39mfrom\u001b[39m\u001b[39m\"\u001b[39m: wallet,\n\u001b[1;32m     12\u001b[0m     \u001b[39m\"\u001b[39m\u001b[39mpriority_fee\u001b[39m\u001b[39m\"\u001b[39m: \u001b[39m\"\u001b[39m\u001b[39m500 gwei\u001b[39m\u001b[39m\"\u001b[39m,\n\u001b[1;32m     13\u001b[0m     \u001b[39m\"\u001b[39m\u001b[39mmax_fee\u001b[39m\u001b[39m\"\u001b[39m: \u001b[39m\"\u001b[39m\u001b[39m500 gwei\u001b[39m\u001b[39m\"\u001b[39m,\n\u001b[1;32m     14\u001b[0m }\n\u001b[0;32m---> 15\u001b[0m (data_nft, datatoken, ddo) \u001b[39m=\u001b[39m ocean\u001b[39m.\u001b[39;49massets\u001b[39m.\u001b[39;49mcreate_url_asset(name, url, tx_dict)\n\u001b[1;32m     17\u001b[0m \u001b[39mprint\u001b[39m(\u001b[39m\"\u001b[39m\u001b[39mData NFT published:\u001b[39m\u001b[39m\"\u001b[39m)\n\u001b[1;32m     18\u001b[0m \u001b[39mprint\u001b[39m(\u001b[39mf\u001b[39m\u001b[39m\"\u001b[39m\u001b[39m  data_nft: symbol=\u001b[39m\u001b[39m{\u001b[39;00mdata_nft\u001b[39m.\u001b[39msymbol()\u001b[39m}\u001b[39;00m\u001b[39m, address=\u001b[39m\u001b[39m{\u001b[39;00mdata_nft\u001b[39m.\u001b[39maddress\u001b[39m}\u001b[39;00m\u001b[39m\"\u001b[39m)\n",
            "File \u001b[0;32m~/.local/lib/python3.8/site-packages/enforce_typing/decorator.py:29\u001b[0m, in \u001b[0;36menforce_types.<locals>.decorate.<locals>.wrapper\u001b[0;34m(*args, **kwargs)\u001b[0m\n\u001b[1;32m     26\u001b[0m \u001b[39m@wraps\u001b[39m(func)\n\u001b[1;32m     27\u001b[0m \u001b[39mdef\u001b[39;00m \u001b[39mwrapper\u001b[39m(\u001b[39m*\u001b[39margs, \u001b[39m*\u001b[39m\u001b[39m*\u001b[39mkwargs):\n\u001b[1;32m     28\u001b[0m     check_types(\u001b[39m*\u001b[39margs, \u001b[39m*\u001b[39m\u001b[39m*\u001b[39mkwargs)\n\u001b[0;32m---> 29\u001b[0m     \u001b[39mreturn\u001b[39;00m func(\u001b[39m*\u001b[39;49margs, \u001b[39m*\u001b[39;49m\u001b[39m*\u001b[39;49mkwargs)\n",
            "File \u001b[0;32m~/.local/lib/python3.8/site-packages/ocean_lib/ocean/ocean_assets.py:246\u001b[0m, in \u001b[0;36mOceanAssets.create_url_asset\u001b[0;34m(self, name, url, tx_dict, *args, **kwargs)\u001b[0m\n\u001b[1;32m    242\u001b[0m     asset_args\u001b[39m.\u001b[39mmetadata \u001b[39m=\u001b[39m OceanAssets\u001b[39m.\u001b[39mdefault_metadata(name, tx_dict)\n\u001b[1;32m    244\u001b[0m files \u001b[39m=\u001b[39m [UrlFile(url)]\n\u001b[0;32m--> 246\u001b[0m \u001b[39mreturn\u001b[39;00m \u001b[39mself\u001b[39;49m\u001b[39m.\u001b[39;49mcreate_bundled(files, tx_dict, asset_args)\n",
            "File \u001b[0;32m~/.local/lib/python3.8/site-packages/enforce_typing/decorator.py:29\u001b[0m, in \u001b[0;36menforce_types.<locals>.decorate.<locals>.wrapper\u001b[0;34m(*args, **kwargs)\u001b[0m\n\u001b[1;32m     26\u001b[0m \u001b[39m@wraps\u001b[39m(func)\n\u001b[1;32m     27\u001b[0m \u001b[39mdef\u001b[39;00m \u001b[39mwrapper\u001b[39m(\u001b[39m*\u001b[39margs, \u001b[39m*\u001b[39m\u001b[39m*\u001b[39mkwargs):\n\u001b[1;32m     28\u001b[0m     check_types(\u001b[39m*\u001b[39margs, \u001b[39m*\u001b[39m\u001b[39m*\u001b[39mkwargs)\n\u001b[0;32m---> 29\u001b[0m     \u001b[39mreturn\u001b[39;00m func(\u001b[39m*\u001b[39;49margs, \u001b[39m*\u001b[39;49m\u001b[39m*\u001b[39;49mkwargs)\n",
            "File \u001b[0;32m~/.local/lib/python3.8/site-packages/ocean_lib/ocean/ocean_assets.py:396\u001b[0m, in \u001b[0;36mOceanAssets.create_bundled\u001b[0;34m(self, files, tx_dict, asset_args)\u001b[0m\n\u001b[1;32m    392\u001b[0m document, flags, ddo_hash \u001b[39m=\u001b[39m \u001b[39mself\u001b[39m\u001b[39m.\u001b[39m_encrypt_ddo(ddo, provider_uri, \u001b[39mTrue\u001b[39;00m, \u001b[39mTrue\u001b[39;00m)\n\u001b[1;32m    394\u001b[0m wallet_address \u001b[39m=\u001b[39m get_from_address(tx_dict)\n\u001b[0;32m--> 396\u001b[0m data_nft\u001b[39m.\u001b[39;49msetMetaData(\n\u001b[1;32m    397\u001b[0m     \u001b[39m0\u001b[39;49m,\n\u001b[1;32m    398\u001b[0m     provider_uri,\n\u001b[1;32m    399\u001b[0m     wallet_address\u001b[39m.\u001b[39;49mencode(\u001b[39m\"\u001b[39;49m\u001b[39mutf-8\u001b[39;49m\u001b[39m\"\u001b[39;49m),\n\u001b[1;32m    400\u001b[0m     flags,\n\u001b[1;32m    401\u001b[0m     document,\n\u001b[1;32m    402\u001b[0m     ddo_hash,\n\u001b[1;32m    403\u001b[0m     [proof],\n\u001b[1;32m    404\u001b[0m     tx_dict,\n\u001b[1;32m    405\u001b[0m )\n\u001b[1;32m    407\u001b[0m \u001b[39m# Fetch the ddo on chain\u001b[39;00m\n\u001b[1;32m    408\u001b[0m \u001b[39mif\u001b[39;00m asset_args\u001b[39m.\u001b[39mwait_for_aqua:\n",
            "File \u001b[0;32m~/.local/lib/python3.8/site-packages/brownie/network/contract.py:1864\u001b[0m, in \u001b[0;36mContractTx.__call__\u001b[0;34m(self, *args)\u001b[0m\n\u001b[1;32m   1848\u001b[0m \u001b[39mdef\u001b[39;00m \u001b[39m__call__\u001b[39m(\u001b[39mself\u001b[39m, \u001b[39m*\u001b[39margs: Tuple) \u001b[39m-\u001b[39m\u001b[39m>\u001b[39m TransactionReceiptType:\n\u001b[1;32m   1849\u001b[0m     \u001b[39m\"\"\"\u001b[39;00m\n\u001b[1;32m   1850\u001b[0m \u001b[39m    Broadcast a transaction that calls this contract method.\u001b[39;00m\n\u001b[1;32m   1851\u001b[0m \n\u001b[0;32m   (...)\u001b[0m\n\u001b[1;32m   1861\u001b[0m \u001b[39m        Object representing the broadcasted transaction.\u001b[39;00m\n\u001b[1;32m   1862\u001b[0m \u001b[39m    \"\"\"\u001b[39;00m\n\u001b[0;32m-> 1864\u001b[0m     \u001b[39mreturn\u001b[39;00m \u001b[39mself\u001b[39;49m\u001b[39m.\u001b[39;49mtransact(\u001b[39m*\u001b[39;49margs)\n",
            "File \u001b[0;32m~/.local/lib/python3.8/site-packages/brownie/network/contract.py:1737\u001b[0m, in \u001b[0;36m_ContractMethod.transact\u001b[0;34m(self, *args)\u001b[0m\n\u001b[1;32m   1731\u001b[0m \u001b[39mif\u001b[39;00m \u001b[39mnot\u001b[39;00m tx[\u001b[39m\"\u001b[39m\u001b[39mfrom\u001b[39m\u001b[39m\"\u001b[39m]:\n\u001b[1;32m   1732\u001b[0m     \u001b[39mraise\u001b[39;00m \u001b[39mAttributeError\u001b[39;00m(\n\u001b[1;32m   1733\u001b[0m         \u001b[39m\"\u001b[39m\u001b[39mFinal argument must be a dict of transaction parameters that \u001b[39m\u001b[39m\"\u001b[39m\n\u001b[1;32m   1734\u001b[0m         \u001b[39m\"\u001b[39m\u001b[39mincludes a `from` field specifying the sender of the transaction\u001b[39m\u001b[39m\"\u001b[39m\n\u001b[1;32m   1735\u001b[0m     )\n\u001b[0;32m-> 1737\u001b[0m \u001b[39mreturn\u001b[39;00m tx[\u001b[39m\"\u001b[39;49m\u001b[39mfrom\u001b[39;49m\u001b[39m\"\u001b[39;49m]\u001b[39m.\u001b[39;49mtransfer(\n\u001b[1;32m   1738\u001b[0m     \u001b[39mself\u001b[39;49m\u001b[39m.\u001b[39;49m_address,\n\u001b[1;32m   1739\u001b[0m     tx[\u001b[39m\"\u001b[39;49m\u001b[39mvalue\u001b[39;49m\u001b[39m\"\u001b[39;49m],\n\u001b[1;32m   1740\u001b[0m     gas_limit\u001b[39m=\u001b[39;49mtx[\u001b[39m\"\u001b[39;49m\u001b[39mgas\u001b[39;49m\u001b[39m\"\u001b[39;49m],\n\u001b[1;32m   1741\u001b[0m     gas_buffer\u001b[39m=\u001b[39;49mtx\u001b[39m.\u001b[39;49mget(\u001b[39m\"\u001b[39;49m\u001b[39mgas_buffer\u001b[39;49m\u001b[39m\"\u001b[39;49m),\n\u001b[1;32m   1742\u001b[0m     gas_price\u001b[39m=\u001b[39;49mtx\u001b[39m.\u001b[39;49mget(\u001b[39m\"\u001b[39;49m\u001b[39mgas_price\u001b[39;49m\u001b[39m\"\u001b[39;49m),\n\u001b[1;32m   1743\u001b[0m     max_fee\u001b[39m=\u001b[39;49mtx\u001b[39m.\u001b[39;49mget(\u001b[39m\"\u001b[39;49m\u001b[39mmax_fee\u001b[39;49m\u001b[39m\"\u001b[39;49m),\n\u001b[1;32m   1744\u001b[0m     priority_fee\u001b[39m=\u001b[39;49mtx\u001b[39m.\u001b[39;49mget(\u001b[39m\"\u001b[39;49m\u001b[39mpriority_fee\u001b[39;49m\u001b[39m\"\u001b[39;49m),\n\u001b[1;32m   1745\u001b[0m     nonce\u001b[39m=\u001b[39;49mtx[\u001b[39m\"\u001b[39;49m\u001b[39mnonce\u001b[39;49m\u001b[39m\"\u001b[39;49m],\n\u001b[1;32m   1746\u001b[0m     required_confs\u001b[39m=\u001b[39;49mtx[\u001b[39m\"\u001b[39;49m\u001b[39mrequired_confs\u001b[39;49m\u001b[39m\"\u001b[39;49m],\n\u001b[1;32m   1747\u001b[0m     data\u001b[39m=\u001b[39;49m\u001b[39mself\u001b[39;49m\u001b[39m.\u001b[39;49mencode_input(\u001b[39m*\u001b[39;49margs),\n\u001b[1;32m   1748\u001b[0m     allow_revert\u001b[39m=\u001b[39;49mtx[\u001b[39m\"\u001b[39;49m\u001b[39mallow_revert\u001b[39;49m\u001b[39m\"\u001b[39;49m],\n\u001b[1;32m   1749\u001b[0m )\n",
            "File \u001b[0;32m~/.local/lib/python3.8/site-packages/brownie/network/account.py:644\u001b[0m, in \u001b[0;36m_PrivateKeyAccount.transfer\u001b[0;34m(self, to, amount, gas_limit, gas_buffer, gas_price, max_fee, priority_fee, data, nonce, required_confs, allow_revert, silent)\u001b[0m\n\u001b[1;32m    610\u001b[0m \u001b[39mdef\u001b[39;00m \u001b[39mtransfer\u001b[39m(\n\u001b[1;32m    611\u001b[0m     \u001b[39mself\u001b[39m,\n\u001b[1;32m    612\u001b[0m     to: \u001b[39m\"\u001b[39m\u001b[39mAccount\u001b[39m\u001b[39m\"\u001b[39m \u001b[39m=\u001b[39m \u001b[39mNone\u001b[39;00m,\n\u001b[0;32m   (...)\u001b[0m\n\u001b[1;32m    623\u001b[0m     silent: \u001b[39mbool\u001b[39m \u001b[39m=\u001b[39m \u001b[39mNone\u001b[39;00m,\n\u001b[1;32m    624\u001b[0m ) \u001b[39m-\u001b[39m\u001b[39m>\u001b[39m TransactionReceipt:\n\u001b[1;32m    625\u001b[0m     \u001b[39m\"\"\"\u001b[39;00m\n\u001b[1;32m    626\u001b[0m \u001b[39m    Broadcast a transaction from this account.\u001b[39;00m\n\u001b[1;32m    627\u001b[0m \n\u001b[0;32m   (...)\u001b[0m\n\u001b[1;32m    641\u001b[0m \u001b[39m        TransactionReceipt object\u001b[39;00m\n\u001b[1;32m    642\u001b[0m \u001b[39m    \"\"\"\u001b[39;00m\n\u001b[0;32m--> 644\u001b[0m     receipt, exc \u001b[39m=\u001b[39m \u001b[39mself\u001b[39;49m\u001b[39m.\u001b[39;49m_make_transaction(\n\u001b[1;32m    645\u001b[0m         to,\n\u001b[1;32m    646\u001b[0m         amount,\n\u001b[1;32m    647\u001b[0m         gas_limit,\n\u001b[1;32m    648\u001b[0m         gas_buffer,\n\u001b[1;32m    649\u001b[0m         gas_price,\n\u001b[1;32m    650\u001b[0m         max_fee,\n\u001b[1;32m    651\u001b[0m         priority_fee,\n\u001b[1;32m    652\u001b[0m         data \u001b[39mor\u001b[39;49;00m \u001b[39m\"\u001b[39;49m\u001b[39m\"\u001b[39;49m,\n\u001b[1;32m    653\u001b[0m         nonce,\n\u001b[1;32m    654\u001b[0m         \u001b[39m\"\u001b[39;49m\u001b[39m\"\u001b[39;49m,\n\u001b[1;32m    655\u001b[0m         required_confs,\n\u001b[1;32m    656\u001b[0m         allow_revert,\n\u001b[1;32m    657\u001b[0m         silent,\n\u001b[1;32m    658\u001b[0m     )\n\u001b[1;32m    660\u001b[0m     \u001b[39mif\u001b[39;00m rpc\u001b[39m.\u001b[39mis_active():\n\u001b[1;32m    661\u001b[0m         undo_thread \u001b[39m=\u001b[39m threading\u001b[39m.\u001b[39mThread(\n\u001b[1;32m    662\u001b[0m             target\u001b[39m=\u001b[39mChain()\u001b[39m.\u001b[39m_add_to_undo_buffer,\n\u001b[1;32m    663\u001b[0m             args\u001b[39m=\u001b[39m(\n\u001b[0;32m   (...)\u001b[0m\n\u001b[1;32m    678\u001b[0m             daemon\u001b[39m=\u001b[39m\u001b[39mTrue\u001b[39;00m,\n\u001b[1;32m    679\u001b[0m         )\n",
            "File \u001b[0;32m~/.local/lib/python3.8/site-packages/brownie/network/account.py:752\u001b[0m, in \u001b[0;36m_PrivateKeyAccount._make_transaction\u001b[0;34m(self, to, amount, gas_limit, gas_buffer, gas_price, max_fee, priority_fee, data, nonce, fn_name, required_confs, allow_revert, silent)\u001b[0m\n\u001b[1;32m    750\u001b[0m \u001b[39mexcept\u001b[39;00m \u001b[39mValueError\u001b[39;00m \u001b[39mas\u001b[39;00m e:\n\u001b[1;32m    751\u001b[0m     \u001b[39mif\u001b[39;00m txid \u001b[39mis\u001b[39;00m \u001b[39mNone\u001b[39;00m:\n\u001b[0;32m--> 752\u001b[0m         exc \u001b[39m=\u001b[39m VirtualMachineError(e)\n\u001b[1;32m    753\u001b[0m         \u001b[39mif\u001b[39;00m \u001b[39mnot\u001b[39;00m \u001b[39mhasattr\u001b[39m(exc, \u001b[39m\"\u001b[39m\u001b[39mtxid\u001b[39m\u001b[39m\"\u001b[39m):\n\u001b[1;32m    754\u001b[0m             \u001b[39mraise\u001b[39;00m exc \u001b[39mfrom\u001b[39;00m \u001b[39mNone\u001b[39m\n",
            "File \u001b[0;32m~/.local/lib/python3.8/site-packages/brownie/exceptions.py:93\u001b[0m, in \u001b[0;36mVirtualMachineError.__init__\u001b[0;34m(self, exc)\u001b[0m\n\u001b[1;32m     90\u001b[0m     \u001b[39mpass\u001b[39;00m\n\u001b[1;32m     92\u001b[0m \u001b[39mif\u001b[39;00m \u001b[39mnot\u001b[39;00m (\u001b[39misinstance\u001b[39m(exc, \u001b[39mdict\u001b[39m) \u001b[39mand\u001b[39;00m \u001b[39m\"\u001b[39m\u001b[39mmessage\u001b[39m\u001b[39m\"\u001b[39m \u001b[39min\u001b[39;00m exc):\n\u001b[0;32m---> 93\u001b[0m     \u001b[39mraise\u001b[39;00m \u001b[39mValueError\u001b[39;00m(\u001b[39mstr\u001b[39m(exc)) \u001b[39mfrom\u001b[39;00m \u001b[39mNone\u001b[39m\n\u001b[1;32m     95\u001b[0m \u001b[39mif\u001b[39;00m \u001b[39m\"\u001b[39m\u001b[39mdata\u001b[39m\u001b[39m\"\u001b[39m \u001b[39mnot\u001b[39;00m \u001b[39min\u001b[39;00m exc:\n\u001b[1;32m     96\u001b[0m     \u001b[39mraise\u001b[39;00m \u001b[39mValueError\u001b[39;00m(exc[\u001b[39m\"\u001b[39m\u001b[39mmessage\u001b[39m\u001b[39m\"\u001b[39m]) \u001b[39mfrom\u001b[39;00m \u001b[39mNone\u001b[39m\n",
            "\u001b[0;31mValueError\u001b[0m: Execution reverted during call: 'out of gas'. This transaction will likely revert. If you wish to broadcast, include `allow_revert:True` as a transaction parameter."
          ]
        }
      ],
      "source": [
        "# Create Data NFT\n",
        "name = \"Data NFT Test 3\"\n",
        "\n",
        "# Public GitHub\n",
        "url = \"https://raw.githubusercontent.com/PrimoData/ocean_data_nfts/main/query_results2.csv\"\n",
        "\n",
        "# Private GitHub\n",
        "#url = f\"https://raw.githubusercontent.com/PrimoData/ocean_data_nfts/main/query_results2.csv?token={GITHUB_KEY}\"\n",
        "\n",
        "tx_dict = {\n",
        "    \"from\": wallet,\n",
        "    \"priority_fee\": \"500 gwei\",\n",
        "    \"max_fee\": \"500 gwei\",\n",
        "}\n",
        "(data_nft, datatoken, ddo) = ocean.assets.create_url_asset(name, url, tx_dict)\n",
        "\n",
        "print(\"Data NFT published:\")\n",
        "print(f\"  data_nft: symbol={data_nft.symbol()}, address={data_nft.address}\")\n",
        "print(f\"  datatoken: symbol={datatoken.symbol()}, address={datatoken.address}\")\n",
        "print(f\"  did={ddo.did}\")"
      ]
    }
  ],
  "metadata": {
    "colab": {
      "collapsed_sections": [
        "lD0ohbZKhrSA",
        "QyP9sQLdhrSH"
      ],
      "provenance": [],
      "toc_visible": true
    },
    "kernelspec": {
      "display_name": "Python 3 (ipykernel)",
      "language": "python",
      "name": "python3"
    },
    "language_info": {
      "codemirror_mode": {
        "name": "ipython",
        "version": 3
      },
      "file_extension": ".py",
      "mimetype": "text/x-python",
      "name": "python",
      "nbconvert_exporter": "python",
      "pygments_lexer": "ipython3",
      "version": "3.8.17"
    }
  },
  "nbformat": 4,
  "nbformat_minor": 0
}
