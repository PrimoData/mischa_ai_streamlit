{
  "cells": [
    {
      "cell_type": "markdown",
      "metadata": {
        "id": "U2cIERTiROa_"
      },
      "source": [
        "# Create OCEAN Data NFT\n",
        "Quickly create OCEAN Data NFTs by querying blockchain data from Dune and Flipside.\n",
        "\n",
        "**Steps:**\n",
        "1. Get Data\n",
        "2. Store Data\n",
        "3. Create Data NFT\n",
        "\n",
        "Alternative Option: Build Dune/Flipside queries on platforms and create OCEAN Data NFTs from UI."
      ]
    },
    {
      "cell_type": "code",
      "execution_count": null,
      "metadata": {
        "id": "qC-Gh5WzVRUy"
      },
      "outputs": [],
      "source": [
        "import json\n",
        "import pandas as pd\n",
        "import os\n",
        "from dotenv import load_dotenv\n",
        "import requests\n",
        "import subprocess\n",
        "from flipside import Flipside\n",
        "from ocean_lib.web3_internal.utils import connect_to_network\n",
        "from ocean_lib.example_config import get_config_dict\n",
        "from ocean_lib.ocean.ocean import Ocean\n",
        "from brownie.network import accounts\n",
        "\n",
        "# Load variables from .env file\n",
        "load_dotenv()\n",
        "DUNE_API_KEY = os.getenv(\"DUNE_API_KEY\")\n",
        "FLIPSIDE_API_KEY = os.getenv(\"FLIPSIDE_API_KEY\")"
      ]
    },
    {
      "cell_type": "markdown",
      "metadata": {
        "id": "DuFwUeDwRksV"
      },
      "source": [
        "## 1. Get Data\n",
        "### Flipside\n",
        "\n",
        "* SDK Docs: https://docs.flipsidecrypto.com/flipside-api/get-started"
      ]
    },
    {
      "cell_type": "code",
      "execution_count": null,
      "metadata": {
        "id": "Gs3ndPZIRY5N"
      },
      "outputs": [],
      "source": [
        "# Query Flipside using their Python SDK\n",
        "def query_flipside(sql):\n",
        "    flipside = Flipside(FLIPSIDE_API_KEY, \"https://api-v2.flipsidecrypto.xyz\")\n",
        "    results = flipside.query(sql)\n",
        "    results_df = pd.DataFrame(results.rows, columns=results.columns).drop(columns=[\"__row_index\"])\n",
        "    return results_df"
      ]
    },
    {
      "cell_type": "code",
      "execution_count": null,
      "metadata": {
        "id": "QOVVpyiWhrR3"
      },
      "outputs": [],
      "source": [
        "sql = \"\"\"\n",
        "SELECT\n",
        "  date(block_timestamp) as dt,\n",
        "  count(distinct tx_hash) as tx_ct\n",
        "FROM ethereum.core.fact_transactions\n",
        "WHERE block_timestamp >= GETDATE() - interval'7 days'\n",
        "GROUP BY 1\n",
        "order by 1 asc\n",
        "\"\"\"\n",
        "results_df = query_flipside(sql)\n",
        "results_df"
      ]
    },
    {
      "cell_type": "markdown",
      "metadata": {},
      "source": [
        "### Dune\n",
        "\n",
        "* API Docs: https://dune.com/docs/api/"
      ]
    },
    {
      "cell_type": "code",
      "execution_count": null,
      "metadata": {},
      "outputs": [],
      "source": [
        "# Query Dune Analytics via API\n",
        "def query_dune(q):\n",
        "    url = f\"https://api.dune.com/api/v1/query/{q}/results?api_key={DUNE_API_KEY}\"\n",
        "    response = requests.get(url)\n",
        "    results_json = json.loads(response.text)[\"result\"][\"rows\"]\n",
        "    results_df = pd.DataFrame.from_dict(results_json)\n",
        "    return results_df"
      ]
    },
    {
      "cell_type": "code",
      "execution_count": null,
      "metadata": {},
      "outputs": [],
      "source": [
        "results_df = query_dune(2847682)\n",
        "results_df"
      ]
    },
    {
      "cell_type": "markdown",
      "metadata": {},
      "source": [
        "## 2. Store Data\n",
        "### Add File to GitHub\n",
        "\n",
        "*Note: This is a quick & easy solution to host the data, but can also add file to IPFS, Arweave, GCP, AWS, etc...*"
      ]
    },
    {
      "cell_type": "code",
      "execution_count": null,
      "metadata": {},
      "outputs": [],
      "source": [
        "# Create File from Query results\n",
        "results_df.to_csv('query_results.csv', index=False)"
      ]
    },
    {
      "cell_type": "code",
      "execution_count": null,
      "metadata": {},
      "outputs": [],
      "source": [
        "# Store file in GitHub repo\n",
        "def git_add_commit_push(commit_message):\n",
        "    try:\n",
        "        subprocess.run(['git', 'add', '.'])\n",
        "        subprocess.run(['git', 'commit', '-m', commit_message])\n",
        "        subprocess.run(['git', 'push'])\n",
        "        print(\"Git add, commit, and push successful!\")\n",
        "    except Exception as e:\n",
        "        print(\"An error occurred:\", e)\n",
        "\n",
        "# Replace 'Your commit message here' with your desired commit message\n",
        "commit_message = 'Your commit message here'\n",
        "\n",
        "git_add_commit_push(commit_message)"
      ]
    },
    {
      "cell_type": "markdown",
      "metadata": {
        "id": "jq9EbM_MRwLI"
      },
      "source": [
        "## 3. Create Data NFT\n",
        "### Add Data NFT to the OCEAN Protocol Marketplace\n",
        "\n",
        "* Marketplace: https://market.oceanprotocol.com/\n",
        "* SDK Docs: https://docs.oceanprotocol.com/developers/ocean.py/install"
      ]
    },
    {
      "cell_type": "code",
      "execution_count": null,
      "metadata": {},
      "outputs": [],
      "source": [
        "# Create to Blockchain\n",
        "connect_to_network(\"polygon-main\")\n",
        "config = get_config_dict(\"polygon-main\")\n",
        "ocean = Ocean(config)"
      ]
    },
    {
      "cell_type": "code",
      "execution_count": null,
      "metadata": {
        "id": "ddWUcAVtvtQx"
      },
      "outputs": [],
      "source": [
        "# Connect to Wallet\n",
        "accounts.clear()\n",
        "private_key = os.getenv('PRIVATE_KEY')\n",
        "wallet = accounts.add(private_key)\n",
        "print('MATIC Balance:', wallet.balance() / 1e18 )"
      ]
    },
    {
      "cell_type": "code",
      "execution_count": null,
      "metadata": {},
      "outputs": [],
      "source": [
        "# Create Data NFT\n",
        "name = \"Data NFT Test 1\"\n",
        "url = \"https://raw.githubusercontent.com/PrimoData/ocean_data_nfts/main/query_results.csv\"\n",
        "tx_dict = {\n",
        "    \"from\": wallet,\n",
        "    \"priority_fee\": \"500 gwei\",\n",
        "    \"max_fee\": \"500 gwei\",\n",
        "}\n",
        "(data_nft, datatoken, ddo) = ocean.assets.create_url_asset(name, url, tx_dict)\n",
        "\n",
        "print(\"Data NFT published:\")\n",
        "print(f\"  data_nft: symbol={data_nft.symbol()}, address={data_nft.address}\")\n",
        "print(f\"  datatoken: symbol={datatoken.symbol()}, address={datatoken.address}\")\n",
        "print(f\"  did={ddo.did}\")"
      ]
    }
  ],
  "metadata": {
    "colab": {
      "collapsed_sections": [
        "lD0ohbZKhrSA",
        "QyP9sQLdhrSH"
      ],
      "provenance": [],
      "toc_visible": true
    },
    "kernelspec": {
      "display_name": "Python 3 (ipykernel)",
      "language": "python",
      "name": "python3"
    },
    "language_info": {
      "codemirror_mode": {
        "name": "ipython",
        "version": 3
      },
      "file_extension": ".py",
      "mimetype": "text/x-python",
      "name": "python",
      "nbconvert_exporter": "python",
      "pygments_lexer": "ipython3",
      "version": "3.8.17"
    }
  },
  "nbformat": 4,
  "nbformat_minor": 0
}
