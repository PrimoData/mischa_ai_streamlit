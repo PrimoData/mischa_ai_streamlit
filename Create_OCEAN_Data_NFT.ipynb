{
  "cells": [
    {
      "cell_type": "markdown",
      "metadata": {
        "id": "U2cIERTiROa_"
      },
      "source": [
        "# Create OCEAN Data NFT\n",
        "Quickly create OCEAN Data NFTs by querying blockchain data from Dune and Flipside.\n",
        "\n",
        "**Steps:**\n",
        "1. Get Data\n",
        "2. Store Data\n",
        "3. Create Data NFT"
      ]
    },
    {
      "cell_type": "code",
      "execution_count": 2,
      "metadata": {
        "id": "qC-Gh5WzVRUy"
      },
      "outputs": [],
      "source": [
        "import json\n",
        "import pandas as pd\n",
        "import os\n",
        "import time\n",
        "from dotenv import load_dotenv\n",
        "import requests\n",
        "import subprocess\n",
        "from flipside import Flipside\n",
        "from ocean_lib.web3_internal.utils import connect_to_network\n",
        "from ocean_lib.example_config import get_config_dict\n",
        "from ocean_lib.ocean.ocean import Ocean\n",
        "from brownie.network import accounts, chain\n",
        "\n",
        "# Load variables from .env file\n",
        "load_dotenv()\n",
        "DUNE_API_KEY = os.getenv(\"DUNE_API_KEY\")\n",
        "FLIPSIDE_API_KEY = os.getenv(\"FLIPSIDE_API_KEY\")"
      ]
    },
    {
      "cell_type": "markdown",
      "metadata": {
        "id": "DuFwUeDwRksV"
      },
      "source": [
        "## 1. Get Data\n",
        "### Flipside\n",
        "\n",
        "* SDK Docs: https://docs.flipsidecrypto.com/flipside-api/get-started"
      ]
    },
    {
      "cell_type": "code",
      "execution_count": 2,
      "metadata": {
        "id": "Gs3ndPZIRY5N"
      },
      "outputs": [],
      "source": [
        "# Query Flipside using their Python SDK\n",
        "def query_flipside(sql):\n",
        "    flipside = Flipside(FLIPSIDE_API_KEY, \"https://api-v2.flipsidecrypto.xyz\")\n",
        "    results = flipside.query(sql)\n",
        "    results_df = pd.DataFrame(results.rows, columns=results.columns).drop(columns=[\"__row_index\"])\n",
        "    return results_df"
      ]
    },
    {
      "cell_type": "code",
      "execution_count": 3,
      "metadata": {
        "id": "QOVVpyiWhrR3"
      },
      "outputs": [
        {
          "data": {
            "text/html": [
              "<div>\n",
              "<style scoped>\n",
              "    .dataframe tbody tr th:only-of-type {\n",
              "        vertical-align: middle;\n",
              "    }\n",
              "\n",
              "    .dataframe tbody tr th {\n",
              "        vertical-align: top;\n",
              "    }\n",
              "\n",
              "    .dataframe thead th {\n",
              "        text-align: right;\n",
              "    }\n",
              "</style>\n",
              "<table border=\"1\" class=\"dataframe\">\n",
              "  <thead>\n",
              "    <tr style=\"text-align: right;\">\n",
              "      <th></th>\n",
              "      <th>dt</th>\n",
              "      <th>tx_ct</th>\n",
              "    </tr>\n",
              "  </thead>\n",
              "  <tbody>\n",
              "    <tr>\n",
              "      <th>0</th>\n",
              "      <td>2023-07-20T00:00:00.000Z</td>\n",
              "      <td>333141</td>\n",
              "    </tr>\n",
              "    <tr>\n",
              "      <th>1</th>\n",
              "      <td>2023-07-21T00:00:00.000Z</td>\n",
              "      <td>1110882</td>\n",
              "    </tr>\n",
              "    <tr>\n",
              "      <th>2</th>\n",
              "      <td>2023-07-22T00:00:00.000Z</td>\n",
              "      <td>1004374</td>\n",
              "    </tr>\n",
              "    <tr>\n",
              "      <th>3</th>\n",
              "      <td>2023-07-23T00:00:00.000Z</td>\n",
              "      <td>977305</td>\n",
              "    </tr>\n",
              "    <tr>\n",
              "      <th>4</th>\n",
              "      <td>2023-07-24T00:00:00.000Z</td>\n",
              "      <td>1036300</td>\n",
              "    </tr>\n",
              "    <tr>\n",
              "      <th>5</th>\n",
              "      <td>2023-07-25T00:00:00.000Z</td>\n",
              "      <td>990249</td>\n",
              "    </tr>\n",
              "    <tr>\n",
              "      <th>6</th>\n",
              "      <td>2023-07-26T00:00:00.000Z</td>\n",
              "      <td>1029348</td>\n",
              "    </tr>\n",
              "    <tr>\n",
              "      <th>7</th>\n",
              "      <td>2023-07-27T00:00:00.000Z</td>\n",
              "      <td>998420</td>\n",
              "    </tr>\n",
              "    <tr>\n",
              "      <th>8</th>\n",
              "      <td>2023-07-28T00:00:00.000Z</td>\n",
              "      <td>1014601</td>\n",
              "    </tr>\n",
              "    <tr>\n",
              "      <th>9</th>\n",
              "      <td>2023-07-29T00:00:00.000Z</td>\n",
              "      <td>991161</td>\n",
              "    </tr>\n",
              "    <tr>\n",
              "      <th>10</th>\n",
              "      <td>2023-07-30T00:00:00.000Z</td>\n",
              "      <td>981157</td>\n",
              "    </tr>\n",
              "    <tr>\n",
              "      <th>11</th>\n",
              "      <td>2023-07-31T00:00:00.000Z</td>\n",
              "      <td>1048101</td>\n",
              "    </tr>\n",
              "    <tr>\n",
              "      <th>12</th>\n",
              "      <td>2023-08-01T00:00:00.000Z</td>\n",
              "      <td>1068108</td>\n",
              "    </tr>\n",
              "    <tr>\n",
              "      <th>13</th>\n",
              "      <td>2023-08-02T00:00:00.000Z</td>\n",
              "      <td>1042149</td>\n",
              "    </tr>\n",
              "    <tr>\n",
              "      <th>14</th>\n",
              "      <td>2023-08-03T00:00:00.000Z</td>\n",
              "      <td>1049539</td>\n",
              "    </tr>\n",
              "    <tr>\n",
              "      <th>15</th>\n",
              "      <td>2023-08-04T00:00:00.000Z</td>\n",
              "      <td>1075359</td>\n",
              "    </tr>\n",
              "    <tr>\n",
              "      <th>16</th>\n",
              "      <td>2023-08-05T00:00:00.000Z</td>\n",
              "      <td>1124372</td>\n",
              "    </tr>\n",
              "    <tr>\n",
              "      <th>17</th>\n",
              "      <td>2023-08-06T00:00:00.000Z</td>\n",
              "      <td>987506</td>\n",
              "    </tr>\n",
              "    <tr>\n",
              "      <th>18</th>\n",
              "      <td>2023-08-07T00:00:00.000Z</td>\n",
              "      <td>1047336</td>\n",
              "    </tr>\n",
              "    <tr>\n",
              "      <th>19</th>\n",
              "      <td>2023-08-08T00:00:00.000Z</td>\n",
              "      <td>1098689</td>\n",
              "    </tr>\n",
              "    <tr>\n",
              "      <th>20</th>\n",
              "      <td>2023-08-09T00:00:00.000Z</td>\n",
              "      <td>1076595</td>\n",
              "    </tr>\n",
              "    <tr>\n",
              "      <th>21</th>\n",
              "      <td>2023-08-10T00:00:00.000Z</td>\n",
              "      <td>1037733</td>\n",
              "    </tr>\n",
              "    <tr>\n",
              "      <th>22</th>\n",
              "      <td>2023-08-11T00:00:00.000Z</td>\n",
              "      <td>1050203</td>\n",
              "    </tr>\n",
              "    <tr>\n",
              "      <th>23</th>\n",
              "      <td>2023-08-12T00:00:00.000Z</td>\n",
              "      <td>972839</td>\n",
              "    </tr>\n",
              "    <tr>\n",
              "      <th>24</th>\n",
              "      <td>2023-08-13T00:00:00.000Z</td>\n",
              "      <td>920802</td>\n",
              "    </tr>\n",
              "    <tr>\n",
              "      <th>25</th>\n",
              "      <td>2023-08-14T00:00:00.000Z</td>\n",
              "      <td>1009971</td>\n",
              "    </tr>\n",
              "    <tr>\n",
              "      <th>26</th>\n",
              "      <td>2023-08-15T00:00:00.000Z</td>\n",
              "      <td>1056395</td>\n",
              "    </tr>\n",
              "    <tr>\n",
              "      <th>27</th>\n",
              "      <td>2023-08-16T00:00:00.000Z</td>\n",
              "      <td>1076026</td>\n",
              "    </tr>\n",
              "    <tr>\n",
              "      <th>28</th>\n",
              "      <td>2023-08-17T00:00:00.000Z</td>\n",
              "      <td>1065879</td>\n",
              "    </tr>\n",
              "    <tr>\n",
              "      <th>29</th>\n",
              "      <td>2023-08-18T00:00:00.000Z</td>\n",
              "      <td>1081417</td>\n",
              "    </tr>\n",
              "    <tr>\n",
              "      <th>30</th>\n",
              "      <td>2023-08-19T00:00:00.000Z</td>\n",
              "      <td>717438</td>\n",
              "    </tr>\n",
              "  </tbody>\n",
              "</table>\n",
              "</div>"
            ],
            "text/plain": [
              "                          dt    tx_ct\n",
              "0   2023-07-20T00:00:00.000Z   333141\n",
              "1   2023-07-21T00:00:00.000Z  1110882\n",
              "2   2023-07-22T00:00:00.000Z  1004374\n",
              "3   2023-07-23T00:00:00.000Z   977305\n",
              "4   2023-07-24T00:00:00.000Z  1036300\n",
              "5   2023-07-25T00:00:00.000Z   990249\n",
              "6   2023-07-26T00:00:00.000Z  1029348\n",
              "7   2023-07-27T00:00:00.000Z   998420\n",
              "8   2023-07-28T00:00:00.000Z  1014601\n",
              "9   2023-07-29T00:00:00.000Z   991161\n",
              "10  2023-07-30T00:00:00.000Z   981157\n",
              "11  2023-07-31T00:00:00.000Z  1048101\n",
              "12  2023-08-01T00:00:00.000Z  1068108\n",
              "13  2023-08-02T00:00:00.000Z  1042149\n",
              "14  2023-08-03T00:00:00.000Z  1049539\n",
              "15  2023-08-04T00:00:00.000Z  1075359\n",
              "16  2023-08-05T00:00:00.000Z  1124372\n",
              "17  2023-08-06T00:00:00.000Z   987506\n",
              "18  2023-08-07T00:00:00.000Z  1047336\n",
              "19  2023-08-08T00:00:00.000Z  1098689\n",
              "20  2023-08-09T00:00:00.000Z  1076595\n",
              "21  2023-08-10T00:00:00.000Z  1037733\n",
              "22  2023-08-11T00:00:00.000Z  1050203\n",
              "23  2023-08-12T00:00:00.000Z   972839\n",
              "24  2023-08-13T00:00:00.000Z   920802\n",
              "25  2023-08-14T00:00:00.000Z  1009971\n",
              "26  2023-08-15T00:00:00.000Z  1056395\n",
              "27  2023-08-16T00:00:00.000Z  1076026\n",
              "28  2023-08-17T00:00:00.000Z  1065879\n",
              "29  2023-08-18T00:00:00.000Z  1081417\n",
              "30  2023-08-19T00:00:00.000Z   717438"
            ]
          },
          "execution_count": 3,
          "metadata": {},
          "output_type": "execute_result"
        }
      ],
      "source": [
        "sql = \"\"\"\n",
        "SELECT\n",
        "  date(block_timestamp) as dt,\n",
        "  count(distinct tx_hash) as tx_ct\n",
        "FROM ethereum.core.fact_transactions\n",
        "WHERE block_timestamp >= GETDATE() - interval'30 days'\n",
        "GROUP BY 1\n",
        "order by 1 asc\n",
        "\"\"\"\n",
        "results_df = query_flipside(sql)\n",
        "results_df"
      ]
    },
    {
      "cell_type": "markdown",
      "metadata": {},
      "source": [
        "### Dune\n",
        "\n",
        "* API Docs: https://dune.com/docs/api/"
      ]
    },
    {
      "cell_type": "code",
      "execution_count": null,
      "metadata": {},
      "outputs": [],
      "source": [
        "# Query Dune Analytics via API\n",
        "def query_dune(q):\n",
        "    url = f\"https://api.dune.com/api/v1/query/{q}/results?api_key={DUNE_API_KEY}\"\n",
        "    response = requests.get(url)\n",
        "    results_json = json.loads(response.text)[\"result\"][\"rows\"]\n",
        "    results_df = pd.DataFrame.from_dict(results_json)\n",
        "    return results_df"
      ]
    },
    {
      "cell_type": "code",
      "execution_count": null,
      "metadata": {},
      "outputs": [],
      "source": [
        "dune_query_id = 2847682\n",
        "results_df = query_dune(dune_query_id)\n",
        "results_df"
      ]
    },
    {
      "cell_type": "markdown",
      "metadata": {},
      "source": [
        "## 2. Store Data\n",
        "### Add File to GitHub\n",
        "\n",
        "*Note: This is a quick & easy solution to host the data, but can also add file to IPFS, Arweave, GCP, AWS, etc...*"
      ]
    },
    {
      "cell_type": "code",
      "execution_count": 4,
      "metadata": {},
      "outputs": [],
      "source": [
        "# Create File from Query results\n",
        "results_df.to_csv('query_results.csv', index=False)"
      ]
    },
    {
      "cell_type": "code",
      "execution_count": 5,
      "metadata": {},
      "outputs": [
        {
          "name": "stdout",
          "output_type": "stream",
          "text": [
            "[main c7ed66e] Your commit message here\n",
            " 2 files changed, 21 insertions(+), 5 deletions(-)\n",
            "Git add, commit, and push successful!\n"
          ]
        },
        {
          "name": "stderr",
          "output_type": "stream",
          "text": [
            "remote: \n",
            "remote: GitHub found 17 vulnerabilities on PrimoData/ocean_data_nfts's default branch (9 high, 5 moderate, 3 low). To find out more, visit:        \n",
            "remote:      https://github.com/PrimoData/ocean_data_nfts/security/dependabot        \n",
            "remote: \n",
            "To https://github.com/PrimoData/ocean_data_nfts\n",
            "   5c5ab23..c7ed66e  main -> main\n"
          ]
        }
      ],
      "source": [
        "# Store file in GitHub repo\n",
        "def git_add_commit_push(commit_message):\n",
        "    try:\n",
        "        subprocess.run(['git', 'add', '.'])\n",
        "        subprocess.run(['git', 'commit', '-m', commit_message])\n",
        "        subprocess.run(['git', 'push'])\n",
        "        print(\"Git add, commit, and push successful!\")\n",
        "    except Exception as e:\n",
        "        print(\"An error occurred:\", e)\n",
        "\n",
        "# Replace 'Your commit message here' with your desired commit message\n",
        "commit_message = 'Your commit message here'\n",
        "\n",
        "git_add_commit_push(commit_message)"
      ]
    },
    {
      "cell_type": "markdown",
      "metadata": {
        "id": "jq9EbM_MRwLI"
      },
      "source": [
        "## 3. Create Data NFT\n",
        "### Add Data NFT to the OCEAN Protocol Marketplace\n",
        "\n",
        "* Marketplace: https://market.oceanprotocol.com/\n",
        "* SDK Docs: https://docs.oceanprotocol.com/developers/ocean.py/install"
      ]
    },
    {
      "cell_type": "code",
      "execution_count": 3,
      "metadata": {},
      "outputs": [],
      "source": [
        "# Connect to Blockchain\n",
        "connect_to_network(\"polygon-main\")\n",
        "config = get_config_dict(\"polygon-main\")\n",
        "ocean = Ocean(config)"
      ]
    },
    {
      "cell_type": "code",
      "execution_count": 4,
      "metadata": {
        "id": "ddWUcAVtvtQx"
      },
      "outputs": [
        {
          "name": "stdout",
          "output_type": "stream",
          "text": [
            "MATIC Balance: 15.864497269367353\n"
          ]
        }
      ],
      "source": [
        "# Connect to Wallet\n",
        "accounts.clear()\n",
        "private_key = os.getenv('PRIVATE_KEY')\n",
        "wallet = accounts.add(private_key)\n",
        "print('MATIC Balance:', wallet.balance() / 1e18 )"
      ]
    },
    {
      "cell_type": "code",
      "execution_count": 5,
      "metadata": {},
      "outputs": [
        {
          "name": "stdout",
          "output_type": "stream",
          "text": [
            "priority_fee: 30000000000 max_fee: 136212032580 gas_limit: 1662120\n",
            "Transaction sent: \u001b[0;1;34m0xd5c2cc8ca6dccadaaec3ac6723c8c5dd989f3e897e9b46634750191c337b81ea\u001b[0;m\n",
            "  Max fee: \u001b[0;1;34m136.21203258\u001b[0;m gwei   Priority fee: \u001b[0;1;34m30.0\u001b[0;m gwei   Gas limit: \u001b[0;1;34m1662120\u001b[0;m   Nonce: \u001b[0;1;34m65\u001b[0;m\n",
            "  ERC721Factory.createNftWithErc20 confirmed   Block: \u001b[0;1;34m46504040\u001b[0;m   Gas used: \u001b[0;1;34m1595694\u001b[0;m (\u001b[0;1;34m96.00%\u001b[0;m)   Gas price: \u001b[0;1;34m82.252346515\u001b[0;m gwei\n",
            "\n"
          ]
        },
        {
          "name": "stderr",
          "output_type": "stream",
          "text": [
            "INFO:ocean_lib.data_provider.data_encryptor:Asset urls encrypted successfully, encrypted urls str: 0x04464a7213be991ff9428d6893a2730aa7de7177142ca62a72dc7e82cef297b7bbe3fae5a91165a876413011925e55ff346f9ba62b5bee7e6731637be241453f43286e88842b2e2bd2073b5e030dbd3e78581be81e1d91c75e1fee7e33f42fc28c1e1b78cd20ec5da1a5dac6c727bfdda193ff6e7a668d13586e4851d9a811b1e43b06847a901c047aa3227ddb796eb15e1c74769813ece5f4ebfeb005f6a34cf7cfc08ad59cfc1553343138a257e233d9de3d8943cfe61aa0e5ad5df33243afb3a1e9d2343f01a6c526e2e23a972b1d5a0c75ee49f31cc032bc4bb27a144c11b4800fd85d66109aa3c84211eba115bfaffb522796ac3e57d5d74519102df93a42136c98df2e8376389d3c035d48540003bd150362999982a931fcb34d3ce08337a8cbb503a8856adb8db56df873ef49f5176fd9e9cd6e7aeeb48e0f1af9f4ac26f1205b9850cbb7cdb43da7260ef6d3, encryptedEndpoint https://v4.provider.polygon.oceanprotocol.com/api/services/encrypt?chainId=137\n",
            "INFO:ocean_lib.data_provider.data_encryptor:Asset urls encrypted successfully, encrypted urls str: 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, encryptedEndpoint https://v4.provider.polygon.oceanprotocol.com/api/services/encrypt?chainId=137\n"
          ]
        },
        {
          "name": "stdout",
          "output_type": "stream",
          "text": [
            "Transaction sent: \u001b[0;1;34m0x0f54fb55b60da9a540defbb4b5d68c9e7a813ec11e489efac88f8081188cb5d4\u001b[0;m\n",
            "  Max fee: \u001b[0;1;34m136.21203258\u001b[0;m gwei   Priority fee: \u001b[0;1;34m30.0\u001b[0;m gwei   Gas limit: \u001b[0;1;34m1662120\u001b[0;m   Nonce: \u001b[0;1;34m66\u001b[0;m\n",
            "  ERC721Template.setMetaData confirmed   Block: \u001b[0;1;34m46504043\u001b[0;m   Gas used: \u001b[0;1;34m212471\u001b[0;m (\u001b[0;1;34m12.78%\u001b[0;m)   Gas price: \u001b[0;1;34m83.71147739\u001b[0;m gwei\n",
            "\n",
            "Transaction sent: \u001b[0;1;34m0xf11c2481a15ab7ee74ced79618a4cb7e03e687cf819b2b95f6e8eeef58cd0ada\u001b[0;m\n",
            "  Max fee: \u001b[0;1;34m136.21203258\u001b[0;m gwei   Priority fee: \u001b[0;1;34m30.0\u001b[0;m gwei   Gas limit: \u001b[0;1;34m1662120\u001b[0;m   Nonce: \u001b[0;1;34m67\u001b[0;m\n",
            "  ERC20Template.createDispenser confirmed   Block: \u001b[0;1;34m46504072\u001b[0;m   Gas used: \u001b[0;1;34m283122\u001b[0;m (\u001b[0;1;34m17.03%\u001b[0;m)   Gas price: \u001b[0;1;34m86.381964226\u001b[0;m gwei\n",
            "\n",
            "Data NFT published:\n",
            "  data_nft: symbol=Data NFT Test 16, address=0x7A4892c31991Ae4C0b9df7b72d9D67030cb9FFC4\n",
            "  datatoken: symbol=DT1, address=0x223Cb17F54C7C4a2A3377BC5DD305Ebb71def2AF\n",
            "  did=did:op:cf32001c1d8ba46b5b7d29f50c28dcef319d902f405f300b9bb393808b59d3f8\n",
            "  Link: https://market.oceanprotocol.com/asset/did:op:cf32001c1d8ba46b5b7d29f50c28dcef319d902f405f300b9bb393808b59d3f8\n"
          ]
        }
      ],
      "source": [
        "# Create Data NFT\n",
        "name = \"Data NFT Test 16\"\n",
        "\n",
        "# Link to File\n",
        "url = \"https://raw.githubusercontent.com/PrimoData/ocean_data_nfts/main/query_results.csv\"\n",
        "\n",
        "# Set Gas Fees\n",
        "priority_fee = chain.priority_fee\n",
        "max_fee = (chain.base_fee * 2) + priority_fee\n",
        "gas_limit = int((priority_fee + max_fee) /1e5)\n",
        "print(\"priority_fee:\", priority_fee, \"max_fee:\", max_fee, \"gas_limit:\", gas_limit)\n",
        "\n",
        "# Configure Transaction Variables\n",
        "tx_dict = {\n",
        "    \"from\": wallet,\n",
        "    \"priority_fee\": priority_fee,\n",
        "    \"max_fee\": max_fee,\n",
        "    \"gas_limit\": gas_limit,\n",
        "    \"allow_revert\": True,\n",
        "}\n",
        "\n",
        "# Publish Data NFT\n",
        "(data_nft, datatoken, ddo) = ocean.assets.create_url_asset(\n",
        "    name, \n",
        "    url, \n",
        "    tx_dict\n",
        ")\n",
        "\n",
        "time.sleep(30)\n",
        "\n",
        "# Set Price to Free\n",
        "datatoken.create_dispenser(tx_dict)\n",
        "\n",
        "print(\"Data NFT published:\")\n",
        "print(f\"  data_nft: symbol={data_nft.symbol()}, address={data_nft.address}\")\n",
        "print(f\"  datatoken: symbol={datatoken.symbol()}, address={datatoken.address}\")\n",
        "print(f\"  did={ddo.did}\")\n",
        "print(f\"  Link: https://market.oceanprotocol.com/asset/{ddo.did}\")\n"
      ]
    }
  ],
  "metadata": {
    "colab": {
      "collapsed_sections": [
        "lD0ohbZKhrSA",
        "QyP9sQLdhrSH"
      ],
      "provenance": [],
      "toc_visible": true
    },
    "kernelspec": {
      "display_name": "Python 3 (ipykernel)",
      "language": "python",
      "name": "python3"
    },
    "language_info": {
      "codemirror_mode": {
        "name": "ipython",
        "version": 3
      },
      "file_extension": ".py",
      "mimetype": "text/x-python",
      "name": "python",
      "nbconvert_exporter": "python",
      "pygments_lexer": "ipython3",
      "version": "3.8.17"
    }
  },
  "nbformat": 4,
  "nbformat_minor": 0
}
