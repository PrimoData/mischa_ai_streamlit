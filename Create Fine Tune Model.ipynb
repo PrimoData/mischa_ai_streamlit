{
  "cells": [
    {
      "cell_type": "markdown",
      "metadata": {
        "id": "51L4ynq8qPLR"
      },
      "source": [
        "# Create Fine Tuned Model\n",
        "\n",
        "Create a fine tuned [Stable Diffusion SDXL 1.0](https://stability.ai/stablediffusion) model on [Replicate](https://replicate.com/). (Note: Code from a [Replicate blog post](https://replicate.com/blog/fine-tune-sdxl) and inspired by a [Tweet](https://twitter.com/tonykipkemboi/status/1690607821614620672) from Tony Kipkemboi at Streamlit.)\n",
        "\n",
        "**Setup Steps:**\n",
        "1. Create a [Replicate](https://replicate.com/) account.\n",
        "2. Add [Billing info](https://replicate.com/account/billing#billing).\n",
        "3. Create an [API Key](https://replicate.com/account/api-tokens).\n",
        "4. Create an `.env` file with `REPLICATE_API_TOKEN`.\n",
        "5. Create a Zip file with 5+ images. (Note: Needs to be hosted publicly. I'm using GitHub b/c easy & free.).\n",
        "6. Create a [Model](https://replicate.com/create).\n",
        "7. Run code below."
      ]
    },
    {
      "cell_type": "code",
      "execution_count": 2,
      "metadata": {},
      "outputs": [
        {
          "data": {
            "text/plain": [
              "True"
            ]
          },
          "execution_count": 2,
          "metadata": {},
          "output_type": "execute_result"
        }
      ],
      "source": [
        "import replicate\n",
        "from dotenv import load_dotenv\n",
        "\n",
        "load_dotenv()"
      ]
    },
    {
      "cell_type": "code",
      "execution_count": 2,
      "metadata": {
        "id": "0AefVmqxLIjY"
      },
      "outputs": [],
      "source": [
        "# Fine Tune Model\n",
        "training = replicate.trainings.create(\n",
        "    version=\"stability-ai/sdxl:7ca7f0d3a51cd993449541539270971d38a24d9a0d42f073caf25190d41346d7\",  # Base model\n",
        "    input={\n",
        "        \"input_images\": \"https://github.com/PrimoData/mischa_ai/raw/main/Mischa.zip\",  # Zip of images\n",
        "    },\n",
        "    destination=\"primodata/misch-ai\",  # Name of your fine tuned model\n",
        ")"
      ]
    },
    {
      "cell_type": "code",
      "execution_count": 3,
      "metadata": {
        "colab": {
          "base_uri": "https://localhost:8080/"
        },
        "id": "YkRQwY-AtNu2",
        "outputId": "d0906d37-1fe9-4d1a-a487-fb624bbc2de6"
      },
      "outputs": [
        {
          "name": "stdout",
          "output_type": "stream",
          "text": [
            "starting\n"
          ]
        }
      ],
      "source": [
        "# Monitor training progress (View on web here: https://replicate.com/trainings)\n",
        "print(training.status)\n",
        "if training.status == \"processing\":\n",
        "    print(\"\\n\".join(training.logs.split(\"\\n\")[-10:]))"
      ]
    },
    {
      "cell_type": "code",
      "execution_count": 4,
      "metadata": {
        "colab": {
          "base_uri": "https://localhost:8080/",
          "height": 441
        },
        "id": "D5RVsCNPro1X",
        "outputId": "6d0cfb91-c4d0-4019-b89a-41bd79c5f39c"
      },
      "outputs": [
        {
          "data": {
            "text/plain": [
              "['https://pbxt.replicate.delivery/2RephnDLCixkWKyFs5PtgAvw6PL15KfQSuZ2IBBleKfxRhwFB/out-0.png']"
            ]
          },
          "execution_count": 4,
          "metadata": {},
          "output_type": "execute_result"
        }
      ],
      "source": [
        "# Run the model\n",
        "output = replicate.run(\n",
        "    \"primodata/misch-ai:0cbdcb85378ed45e55e7a40dd892a029ff0818477f8d105155c322eb8bfe2031\",\n",
        "    input={\"prompt\": \"A photo of TOK on a mountain top.\"},\n",
        ")\n",
        "output"
      ]
    },
    {
      "cell_type": "markdown",
      "metadata": {
        "id": "grJ6P-xFrs9K"
      },
      "source": [
        "The trained concept is named `TOK` by default, but you can change that by setting `token_string` and `caption_prefix` inputs during the training process."
      ]
    }
  ],
  "metadata": {
    "colab": {
      "provenance": []
    },
    "kernelspec": {
      "display_name": "Python 3",
      "name": "python3"
    },
    "language_info": {
      "codemirror_mode": {
        "name": "ipython",
        "version": 3
      },
      "file_extension": ".py",
      "mimetype": "text/x-python",
      "name": "python",
      "nbconvert_exporter": "python",
      "pygments_lexer": "ipython3",
      "version": "3.10.12"
    }
  },
  "nbformat": 4,
  "nbformat_minor": 0
}
